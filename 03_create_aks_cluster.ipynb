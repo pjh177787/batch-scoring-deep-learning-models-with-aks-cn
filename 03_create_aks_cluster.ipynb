{
 "cells": [
  {
   "cell_type": "markdown",
   "metadata": {},
   "source": [
    "# Create the AKS cluster\n",
    "\n",
    "In this notebook we'll setup the AKS cluster. To do so, we'll do the following:\n",
    "1. check that there is enough quota to provision our desired cluster\n",
    "2. provision the cluster using the `az cli`\n",
    "3. set up blob fuse on the nodes so the pods in our kubernetes cluster can access our blob storage container"
   ]
  },
  {
   "cell_type": "markdown",
   "metadata": {},
   "source": [
    "---"
   ]
  },
  {
   "cell_type": "markdown",
   "metadata": {},
   "source": [
    "### Import packages and load .env"
   ]
  },
  {
   "cell_type": "code",
   "execution_count": 1,
   "metadata": {},
   "outputs": [],
   "source": [
    "from dotenv import set_key, get_key, find_dotenv, load_dotenv\n",
    "from pathlib import Path\n",
    "import subprocess\n",
    "import json\n",
    "import os"
   ]
  },
  {
   "cell_type": "code",
   "execution_count": 2,
   "metadata": {},
   "outputs": [
    {
     "data": {
      "text/plain": [
       "True"
      ]
     },
     "execution_count": 2,
     "metadata": {},
     "output_type": "execute_result"
    }
   ],
   "source": [
    "env_path = find_dotenv(raise_error_if_not_found=True)\n",
    "load_dotenv(env_path)"
   ]
  },
  {
   "cell_type": "markdown",
   "metadata": {},
   "source": [
    "### Provision AKS cluster and set up blobfuse"
   ]
  },
  {
   "cell_type": "markdown",
   "metadata": {},
   "source": [
    "Set how many nodes you want to provision."
   ]
  },
  {
   "cell_type": "code",
   "execution_count": 3,
   "metadata": {},
   "outputs": [
    {
     "data": {
      "text/plain": [
       "(True, 'NODE_COUNT', '3')"
      ]
     },
     "execution_count": 3,
     "metadata": {},
     "output_type": "execute_result"
    }
   ],
   "source": [
    "node_count = 3\n",
    "set_key(env_path, \"NODE_COUNT\", str(node_count))"
   ]
  },
  {
   "cell_type": "markdown",
   "metadata": {},
   "source": [
    "Check that there are enough core of the \"Standard_NC6s_v3\". If not, check that there are enough core of the \"Standard_D2s_v3\". If not, raise exception. "
   ]
  },
  {
   "cell_type": "code",
   "execution_count": 4,
   "metadata": {},
   "outputs": [
    {
     "name": "stdout",
     "output_type": "stream",
     "text": [
      "Checking quota for family size DSv3...\n",
      "There are enough cores, you may continue...\n"
     ]
    }
   ],
   "source": [
    "vm_dict = {\n",
    "    \"NCSv3\": {\n",
    "        \"size\": \"Standard_NC6s_v3\",\n",
    "        \"cores\": 6\n",
    "    },\n",
    "    \"DSv3\": {\n",
    "        \"size\": \"Standard_D2s_v3\",\n",
    "        \"cores\": 2\n",
    "    }\n",
    "}\n",
    "\n",
    "print(\"Checking quota for family size DSv3...\")\n",
    "vm_family = \"DSv3\"\n",
    "requested_cores = node_count * vm_dict[vm_family][\"cores\"]\n",
    "\n",
    "def check_quota(vm_family):\n",
    "    \"\"\"\n",
    "    returns quota object\n",
    "    \"\"\"\n",
    "    results = subprocess.run([\n",
    "        \"az\", \"vm\", \"list-usage\", \n",
    "        \"--location\", get_key(env_path, \"REGION\"), \n",
    "        \"--query\", \"[?contains(localName, '%s')].{max:limit, current:currentValue}\" % (vm_family)\n",
    "    ], stdout=subprocess.PIPE)\n",
    "    quota = json.loads(''.join(results.stdout.decode('utf-8')))\n",
    "    return int(quota[0]['max']) - int(quota[0]['current'])\n",
    "\n",
    "diff = check_quota(vm_family)\n",
    "if diff <= requested_cores:\n",
    "    print(\"Not enough cores of NCSv3 in region, asking for {} but have {}\".format(requested_cores, diff))\n",
    "    \n",
    "    print(\"Retrying with family size DSv3...\")\n",
    "    vm_family = \"DSv3\"\n",
    "    requested_cores = node_count * vm_dict[vm_family][\"cores\"]\n",
    "    \n",
    "    diff = check_quota(vm_family)\n",
    "    if diff <= requested_cores:\n",
    "        print(\"Not enough cores of DSv3 in region, asking for {} but have {}\".format(requested_cores, diff))\n",
    "        raise Exception(\"Core Limit\", \"Note enough cores to satisfy request\")\n",
    "\n",
    "print(\"There are enough cores, you may continue...\") "
   ]
  },
  {
   "cell_type": "markdown",
   "metadata": {},
   "source": [
    "Create the aks cluster. This step may take a while... Please note that this step creates another resource group in your subscription containing the actual compute of the AKS cluster.\n",
    "\n",
    "*The `az aks create` command will generate service principal credentials (unless you explicitly specify it). So, if you have run this notebook before or have created an AKS cluster using the Azure CLI, you may need to clear service principal credentials stored to your machine's disk by running `rm ~/.azure/aksServicePrincipal.json`.*"
   ]
  },
  {
   "cell_type": "code",
   "execution_count": 5,
   "metadata": {},
   "outputs": [],
   "source": [
    "!rm ~/.azure/aksServicePrincipal.json"
   ]
  },
  {
   "cell_type": "code",
   "execution_count": 6,
   "metadata": {
    "tags": [
     "strip_out"
    ]
   },
   "outputs": [
    {
     "name": "stdout",
     "output_type": "stream",
     "text": [
      "Finished service principal creation[##################################]  100.0000%\u001b[91mOperation failed with status: 'Bad Request'. Details: Changing property 'servicePrincipalProfile.clientId' is not allowed.\u001b[0m\n",
      "\u001b[0m"
     ]
    }
   ],
   "source": [
    "!az aks create \\\n",
    "    --resource-group {get_key(env_path, \"RESOURCE_GROUP\")} \\\n",
    "    --name {get_key(env_path, \"AKS_CLUSTER\")} \\\n",
    "    --node-count {node_count} \\\n",
    "    --node-vm-size {vm_dict[vm_family][\"size\"]} \\\n",
    "    --generate-ssh-keys"
   ]
  },
  {
   "cell_type": "code",
   "execution_count": 7,
   "metadata": {},
   "outputs": [
    {
     "data": {
      "text/plain": [
       "(True, 'CLUSTER_RESOURCE_GROUP', 'MC_cambridge_cambridgecl_chinaeast2')"
      ]
     },
     "execution_count": 7,
     "metadata": {},
     "output_type": "execute_result"
    }
   ],
   "source": [
    "crg = !az aks show --resource-group $RESOURCE_GROUP --name $AKS_CLUSTER --query nodeResourceGroup -o tsv\n",
    "set_key(env_path, \"CLUSTER_RESOURCE_GROUP\", str(crg[0]))"
   ]
  },
  {
   "cell_type": "code",
   "execution_count": 9,
   "metadata": {},
   "outputs": [
    {
     "name": "stdout",
     "output_type": "stream",
     "text": [
      "Name                      ResourceGroup                        Location    Zones\r\n",
      "------------------------  -----------------------------------  ----------  -------\r\n",
      "aks-nodepool1-21996804-0  MC_cambridge_cambridgecl_chinaeast2  chinaeast2\r\n",
      "aks-nodepool1-21996804-1  MC_cambridge_cambridgecl_chinaeast2  chinaeast2\r\n",
      "aks-nodepool1-21996804-2  MC_cambridge_cambridgecl_chinaeast2  chinaeast2\r\n",
      "\u001b[0m"
     ]
    }
   ],
   "source": [
    "vm_list = !az vm list --resource-group {get_key(env_path, \"CLUSTER_RESOURCE_GROUP\")} -o table\n",
    "!az vm list --resource-group {get_key(env_path, \"CLUSTER_RESOURCE_GROUP\")} -o table"
   ]
  },
  {
   "cell_type": "code",
   "execution_count": 10,
   "metadata": {},
   "outputs": [
    {
     "data": {
      "text/plain": [
       "(True, 'NODE_0', 'aks-nodepool1-21996804-0')"
      ]
     },
     "execution_count": 10,
     "metadata": {},
     "output_type": "execute_result"
    }
   ],
   "source": [
    "set_key(env_path, \"NODE_0\", str(vm_list[2].split('  ')[0]))"
   ]
  },
  {
   "cell_type": "code",
   "execution_count": 104,
   "metadata": {},
   "outputs": [
    {
     "name": "stdout",
     "output_type": "stream",
     "text": [
      "Writing fuser.sh\n"
     ]
    }
   ],
   "source": [
    "%%writefile fuser.sh\n",
    "\n",
    "sudo apt update\n",
    "sudo apt install git pkg-config libfuse-dev cmake libcurl4-gnutls-dev libgnutls28-dev libgcrypt20-dev -y\n",
    "sudo apt install g++ -y\n",
    "git clone https://github.com/pjh177787/azure-storage-fuse-cn\n",
    "cd azure-storage-fuse-cn\n",
    "./build.sh\n",
    "stat /usr/bin/blobfuse\n",
    "rm -f /usr/bin/blobfuse\n",
    "cp ./build/blobfuse /usr/bin/\n",
    "stat /usr/bin/blobfuse"
   ]
  },
  {
   "cell_type": "code",
   "execution_count": 106,
   "metadata": {
    "scrolled": true
   },
   "outputs": [
    {
     "name": "stdout",
     "output_type": "stream",
     "text": [
      "\u001b[K{- Finished ..\n",
      "  \"value\": [\n",
      "    {\n",
      "      \"code\": \"ProvisioningState/succeeded\",\n",
      "      \"displayStatus\": \"Provisioning succeeded\",\n",
      "      \"level\": \"Info\",\n",
      "      \"message\": \"Enable succeeded: \\n[stdout]\\ne-fuse-cn/build\\nScanning dependencies of target blobfuse\\n[  3%] Building CXX object CMakeFiles/blobfuse.dir/blobfuse/blobfuse.cpp.o\\n[  6%] Building CXX object CMakeFiles/blobfuse.dir/blobfuse/fileapis.cpp.o\\n[  9%] Building CXX object CMakeFiles/blobfuse.dir/blobfuse/directoryapis.cpp.o\\n[ 12%] Building CXX object CMakeFiles/blobfuse.dir/blobfuse/utilities.cpp.o\\n[ 15%] Building CXX object CMakeFiles/blobfuse.dir/azure-storage-cpp-lite/src/base64.cpp.o\\n[ 18%] Building CXX object CMakeFiles/blobfuse.dir/azure-storage-cpp-lite/src/constants.cpp.o\\n[ 21%] Building CXX object CMakeFiles/blobfuse.dir/azure-storage-cpp-lite/src/hash.cpp.o\\n[ 24%] Building CXX object CMakeFiles/blobfuse.dir/azure-storage-cpp-lite/src/utility.cpp.o\\n[ 27%] Building CXX object CMakeFiles/blobfuse.dir/azure-storage-cpp-lite/src/tinyxml2.cpp.o\\n[ 30%] Building CXX object CMakeFiles/blobfuse.dir/azure-storage-cpp-lite/src/tinyxml2_parser.cpp.o\\n[ 33%] Building CXX object CMakeFiles/blobfuse.dir/azure-storage-cpp-lite/src/storage_account.cpp.o\\n[ 36%] Building CXX object CMakeFiles/blobfuse.dir/azure-storage-cpp-lite/src/storage_credential.cpp.o\\n[ 39%] Building CXX object CMakeFiles/blobfuse.dir/azure-storage-cpp-lite/src/storage_url.cpp.o\\n[ 42%] Building CXX object CMakeFiles/blobfuse.dir/azure-storage-cpp-lite/src/get_blob_request_base.cpp.o\\n[ 45%] Building CXX object CMakeFiles/blobfuse.dir/azure-storage-cpp-lite/src/put_blob_request_base.cpp.o\\n[ 48%] Building CXX object CMakeFiles/blobfuse.dir/azure-storage-cpp-lite/src/delete_blob_request_base.cpp.o\\n[ 51%] Building CXX object CMakeFiles/blobfuse.dir/azure-storage-cpp-lite/src/copy_blob_request_base.cpp.o\\n[ 54%] Building CXX object CMakeFiles/blobfuse.dir/azure-storage-cpp-lite/src/create_container_request_base.cpp.o\\n[ 57%] Building CXX object CMakeFiles/blobfuse.dir/azure-storage-cpp-lite/src/delete_container_request_base.cpp.o\\n[ 60%] Building CXX object CMakeFiles/blobfuse.dir/azure-storage-cpp-lite/src/list_containers_request_base.cpp.o\\n[ 63%] Building CXX object CMakeFiles/blobfuse.dir/azure-storage-cpp-lite/src/list_blobs_request_base.cpp.o\\n[ 66%] Building CXX object CMakeFiles/blobfuse.dir/azure-storage-cpp-lite/src/get_blob_property_request_base.cpp.o\\n[ 69%] Building CXX object CMakeFiles/blobfuse.dir/azure-storage-cpp-lite/src/get_block_list_request_base.cpp.o\\n[ 72%] Building CXX object CMakeFiles/blobfuse.dir/azure-storage-cpp-lite/src/get_container_property_request_base.cpp.o\\n[ 75%] Building CXX object CMakeFiles/blobfuse.dir/azure-storage-cpp-lite/src/put_block_request_base.cpp.o\\n[ 78%] Building CXX object CMakeFiles/blobfuse.dir/azure-storage-cpp-lite/src/put_block_list_request_base.cpp.o\\n[ 81%] Building CXX object CMakeFiles/blobfuse.dir/azure-storage-cpp-lite/src/append_block_request_base.cpp.o\\n[ 84%] Building CXX object CMakeFiles/blobfuse.dir/azure-storage-cpp-lite/src/put_page_request_base.cpp.o\\n[ 87%] Building CXX object CMakeFiles/blobfuse.dir/azure-storage-cpp-lite/src/get_page_ranges_request_base.cpp.o\\n[ 90%] Building CXX object CMakeFiles/blobfuse.dir/azure-storage-cpp-lite/src/http/libcurl_http_client.cpp.o\\n[ 93%] Building CXX object CMakeFiles/blobfuse.dir/azure-storage-cpp-lite/src/blob/blob_client.cpp.o\\n[ 96%] Building CXX object CMakeFiles/blobfuse.dir/azure-storage-cpp-lite/src/blob/blob_client_wrapper.cpp.o\\n[100%] Linking CXX executable blobfuse\\n[100%] Built target blobfuse\\n  File: '/usr/bin/blobfuse'\\n  Size: 13806296  \\tBlocks: 26968      IO Block: 4096   regular file\\nDevice: 801h/2049d\\tInode: 3786        Links: 1\\nAccess: (0755/-rwxr-xr-x)  Uid: (    0/    root)   Gid: (    0/    root)\\nAccess: 2019-03-27 23:22:59.000000000 +0000\\nModify: 2018-05-05 03:59:05.000000000 +0000\\nChange: 2019-03-27 23:23:03.070999704 +0000\\n Birth: -\\n  File: '/usr/bin/blobfuse'\\n  Size: 1138560   \\tBlocks: 2224       IO Block: 4096   regular file\\nDevice: 801h/2049d\\tInode: 3487        Links: 1\\nAccess: (0755/-rwxr-xr-x)  Uid: (    0/    root)   Gid: (    0/    root)\\nAccess: 2019-07-18 09:38:56.281227953 +0000\\nModify: 2019-07-18 09:38:56.281227953 +0000\\nChange: 2019-07-18 09:38:56.281227953 +0000\\n Birth: -\\n\\n[stderr]\\n\\nWARNING: apt does not have a stable CLI interface. Use with caution in scripts.\\n\\nW: An error occurred during the signature verification. The repository is not updated and the previous index files will be used. GPG error: http://download.opensuse.org/repositories/home:/clearcontainers:/clear-containers-3/xUbuntu_16.04  Release: The following signatures were invalid: KEYEXPIRED 1562449942\\nW: Failed to fetch http://download.opensuse.org/repositories/home:/clearcontainers:/clear-containers-3/xUbuntu_16.04/Release.gpg  The following signatures were invalid: KEYEXPIRED 1562449942\\nW: Some index files failed to download. They have been ignored, or old ones used instead.\\n\\nWARNING: apt does not have a stable CLI interface. Use with caution in scripts.\\n\\ndebconf: unable to initialize frontend: Dialog\\ndebconf: (Dialog frontend will not work on a dumb terminal, an emacs shell buffer, or without a controlling terminal.)\\ndebconf: falling back to frontend: Readline\\ndebconf: unable to initialize frontend: Readline\\ndebconf: (This frontend requires a controlling tty.)\\ndebconf: falling back to frontend: Teletype\\ndpkg-preconfigure: unable to re-open stdin: \\n\\nWARNING: apt does not have a stable CLI interface. Use with caution in scripts.\\n\\nCloning into 'azure-storage-fuse-cn'...\\n./build.sh: line 9: cmake3: command not found\\n\",\n",
      "      \"time\": null\n",
      "    }\n",
      "  ]\n",
      "}\n",
      "\u001b[0m"
     ]
    }
   ],
   "source": [
    "!az vm run-command invoke \\\n",
    "    --resource-group {get_key(env_path, \"CLUSTER_RESOURCE_GROUP\")} \\\n",
    "    --name 'aks-nodepool1-21996804-0' \\\n",
    "    --command-id RunShellScript \\\n",
    "    --script @fuser.sh"
   ]
  },
  {
   "cell_type": "code",
   "execution_count": 107,
   "metadata": {},
   "outputs": [
    {
     "name": "stdout",
     "output_type": "stream",
     "text": [
      "\u001b[K{- Finished ..\n",
      "  \"value\": [\n",
      "    {\n",
      "      \"code\": \"ProvisioningState/succeeded\",\n",
      "      \"displayStatus\": \"Provisioning succeeded\",\n",
      "      \"level\": \"Info\",\n",
      "      \"message\": \"Enable succeeded: \\n[stdout]\\n  File: '/usr/bin/blobfuse'\\n  Size: 1138560   \\tBlocks: 2224       IO Block: 4096   regular file\\nDevice: 801h/2049d\\tInode: 3487        Links: 1\\nAccess: (0755/-rwxr-xr-x)  Uid: (    0/    root)   Gid: (    0/    root)\\nAccess: 2019-07-18 09:38:56.281227953 +0000\\nModify: 2019-07-18 09:38:56.281227953 +0000\\nChange: 2019-07-18 09:38:56.281227953 +0000\\n Birth: -\\n\\n[stderr]\\n\",\n",
      "      \"time\": null\n",
      "    }\n",
      "  ]\n",
      "}\n",
      "\u001b[0m"
     ]
    }
   ],
   "source": [
    "!az vm run-command invoke \\\n",
    "    --resource-group {get_key(env_path, \"CLUSTER_RESOURCE_GROUP\")} \\\n",
    "    --name 'aks-nodepool1-21996804-0' \\\n",
    "    --command-id RunShellScript \\\n",
    "    --script 'stat /usr/bin/blobfuse'"
   ]
  },
  {
   "cell_type": "code",
   "execution_count": 95,
   "metadata": {},
   "outputs": [
    {
     "name": "stdout",
     "output_type": "stream",
     "text": [
      "NAME                       STATUS   ROLES   AGE    VERSION   INTERNAL-IP   EXTERNAL-IP   OS-IMAGE             KERNEL-VERSION      CONTAINER-RUNTIME\r\n",
      "aks-nodepool1-21996804-0   Ready    agent   5h9m   v1.12.7   10.240.0.5    <none>        Ubuntu 16.04.6 LTS   4.15.0-1040-azure   docker://3.0.4\r\n",
      "aks-nodepool1-21996804-1   Ready    agent   5h9m   v1.12.7   10.240.0.6    <none>        Ubuntu 16.04.6 LTS   4.15.0-1040-azure   docker://3.0.4\r\n",
      "aks-nodepool1-21996804-2   Ready    agent   5h9m   v1.12.7   10.240.0.4    <none>        Ubuntu 16.04.6 LTS   4.15.0-1040-azure   docker://3.0.4\r\n"
     ]
    }
   ],
   "source": [
    "!kubectl get nodes -o wide"
   ]
  },
  {
   "cell_type": "code",
   "execution_count": 96,
   "metadata": {},
   "outputs": [
    {
     "name": "stdout",
     "output_type": "stream",
     "text": [
      "NAME                                    READY   STATUS    RESTARTS   AGE     IP           NODE                       NOMINATED NODE\r\n",
      "blobfuse-flexvol-installer-f7jjz        1/1     Running   0          74m     10.244.0.9   aks-nodepool1-21996804-2   <none>\r\n",
      "blobfuse-flexvol-installer-fzjlm        1/1     Running   0          74m     10.244.1.3   aks-nodepool1-21996804-1   <none>\r\n",
      "blobfuse-flexvol-installer-nkcf9        1/1     Running   0          74m     10.244.2.4   aks-nodepool1-21996804-0   <none>\r\n",
      "coredns-66d44cdc7c-54wn5                1/1     Running   0          5h12m   10.244.0.2   aks-nodepool1-21996804-2   <none>\r\n",
      "coredns-66d44cdc7c-lh5xc                1/1     Running   0          5h8m    10.244.2.2   aks-nodepool1-21996804-0   <none>\r\n",
      "coredns-autoscaler-6fdbf9f665-5vkjl     1/1     Running   0          5h12m   10.244.0.7   aks-nodepool1-21996804-2   <none>\r\n",
      "heapster-5f4dfbc58d-zgh2q               2/2     Running   0          5h12m   10.244.0.4   aks-nodepool1-21996804-2   <none>\r\n",
      "kube-proxy-qffm4                        1/1     Running   0          75m     10.240.0.4   aks-nodepool1-21996804-2   <none>\r\n",
      "kube-proxy-sl46b                        1/1     Running   0          75m     10.240.0.6   aks-nodepool1-21996804-1   <none>\r\n",
      "kube-proxy-tzpmk                        1/1     Running   0          75m     10.240.0.5   aks-nodepool1-21996804-0   <none>\r\n",
      "kube-svc-redirect-995r8                 2/2     Running   0          75m     10.240.0.5   aks-nodepool1-21996804-0   <none>\r\n",
      "kube-svc-redirect-9pb4g                 2/2     Running   0          75m     10.240.0.6   aks-nodepool1-21996804-1   <none>\r\n",
      "kube-svc-redirect-zd2ps                 2/2     Running   0          75m     10.240.0.4   aks-nodepool1-21996804-2   <none>\r\n",
      "kubernetes-dashboard-649d8c8b84-lwsgd   1/1     Running   0          5h12m   10.244.0.6   aks-nodepool1-21996804-2   <none>\r\n",
      "metrics-server-6744474f58-swtwf         1/1     Running   0          5h12m   10.244.0.3   aks-nodepool1-21996804-2   <none>\r\n",
      "tunnelfront-79496584b8-tzr4h            1/1     Running   0          5h12m   10.244.0.5   aks-nodepool1-21996804-2   <none>\r\n"
     ]
    }
   ],
   "source": [
    "!kubectl get po --namespace=kube-system -o wide"
   ]
  },
  {
   "cell_type": "markdown",
   "metadata": {},
   "source": [
    "Install Kubectl - this tool is used to manage the kubernetes cluster."
   ]
  },
  {
   "cell_type": "code",
   "execution_count": 115,
   "metadata": {},
   "outputs": [
    {
     "name": "stdout",
     "output_type": "stream",
     "text": [
      "\u001b[33mDownloading client to \"/usr/local/bin/kubectl\" from \"https://mirror.azure.cn/kubernetes/kubectl/v1.15.0/bin/linux/amd64/kubectl\"\u001b[0m\n",
      "\u001b[33mPlease ensure that /usr/local/bin is in your search PATH, so the `kubectl` command can be found.\u001b[0m\n",
      "\u001b[0m"
     ]
    }
   ],
   "source": [
    "!sudo az aks install-cli"
   ]
  },
  {
   "cell_type": "code",
   "execution_count": 16,
   "metadata": {},
   "outputs": [
    {
     "name": "stdout",
     "output_type": "stream",
     "text": [
      "Merged \"cambridgecl\" as current context in /home/aperture/.kube/config\n",
      "\u001b[0m"
     ]
    }
   ],
   "source": [
    "!az aks get-credentials \\\n",
    "    --resource-group {get_key(env_path, 'RESOURCE_GROUP')}\\\n",
    "    --name {get_key(env_path, 'AKS_CLUSTER')}"
   ]
  },
  {
   "cell_type": "markdown",
   "metadata": {},
   "source": [
    "Check also that the nodes are up and ready using this command. You may choose to run this command in a new cell.\n",
    "```bash\n",
    "!kubectl get nodes\n",
    "```"
   ]
  },
  {
   "cell_type": "markdown",
   "metadata": {},
   "source": [
    "### Blobfuse on AKS"
   ]
  },
  {
   "cell_type": "markdown",
   "metadata": {},
   "source": [
    "Now we setup our AKS cluster so that we have blob storage mounted onto the nodes using blob fuse. More info [here](https://github.com/Azure/kubernetes-volume-drivers/tree/master/flexvolume/blobfuse)."
   ]
  },
  {
   "cell_type": "markdown",
   "metadata": {},
   "source": [
    "Install blobfuse driver on every agent VM."
   ]
  },
  {
   "cell_type": "code",
   "execution_count": 18,
   "metadata": {},
   "outputs": [
    {
     "name": "stdout",
     "output_type": "stream",
     "text": [
      "WARNING! Using --password via the CLI is insecure. Use --password-stdin.\n",
      "WARNING! Your password will be stored unencrypted in /home/aperture/.docker/config.json.\n",
      "Configure a credential helper to remove this warning. See\n",
      "https://docs.docker.com/engine/reference/commandline/login/#credentials-store\n",
      "\n",
      "Login Succeeded\n"
     ]
    }
   ],
   "source": [
    "!sudo docker login --username pjh177787 --password 'Hans&951022'"
   ]
  },
  {
   "cell_type": "code",
   "execution_count": 89,
   "metadata": {},
   "outputs": [
    {
     "name": "stdout",
     "output_type": "stream",
     "text": [
      "Error from server (AlreadyExists): error when creating \"https://raw.githubusercontent.com/Azure/kubernetes-volume-drivers/master/flexvolume/blobfuse/deployment/blobfuse-flexvol-installer-1.9.yaml\": daemonsets.apps \"blobfuse-flexvol-installer\" already exists\r\n"
     ]
    }
   ],
   "source": [
    "!kubectl create -f https://raw.githubusercontent.com/Azure/kubernetes-volume-drivers/master/flexvolume/blobfuse/deployment/blobfuse-flexvol-installer-1.9.yaml"
   ]
  },
  {
   "cell_type": "markdown",
   "metadata": {},
   "source": [
    "Check daemonset status."
   ]
  },
  {
   "cell_type": "code",
   "execution_count": 90,
   "metadata": {},
   "outputs": [
    {
     "name": "stdout",
     "output_type": "stream",
     "text": [
      "Name:           blobfuse-flexvol-installer\r\n",
      "Selector:       name=blobfuse\r\n",
      "Node-Selector:  beta.kubernetes.io/os=linux\r\n",
      "Labels:         k8s-app=blobfuse\r\n",
      "Annotations:    deprecated.daemonset.template.generation: 1\r\n",
      "Desired Number of Nodes Scheduled: 3\r\n",
      "Current Number of Nodes Scheduled: 3\r\n",
      "Number of Nodes Scheduled with Up-to-date Pods: 3\r\n",
      "Number of Nodes Scheduled with Available Pods: 3\r\n",
      "Number of Nodes Misscheduled: 0\r\n",
      "Pods Status:  3 Running / 0 Waiting / 0 Succeeded / 0 Failed\r\n",
      "Pod Template:\r\n",
      "  Labels:  name=blobfuse\r\n",
      "  Containers:\r\n",
      "   blobfuse-flexvol-installer:\r\n",
      "    Image:        mcr.microsoft.com/k8s/flexvolume/blobfuse-flexvolume:1.0.9\r\n",
      "    Port:         <none>\r\n",
      "    Host Port:    <none>\r\n",
      "    Environment:  <none>\r\n",
      "    Mounts:\r\n",
      "      /etc/kubernetes/volumeplugins/ from volplugins (rw)\r\n",
      "      /var/log/ from varlog (rw)\r\n",
      "  Volumes:\r\n",
      "   varlog:\r\n",
      "    Type:          HostPath (bare host directory volume)\r\n",
      "    Path:          /var/log/\r\n",
      "    HostPathType:  \r\n",
      "   volplugins:\r\n",
      "    Type:          HostPath (bare host directory volume)\r\n",
      "    Path:          /etc/kubernetes/volumeplugins/\r\n",
      "    HostPathType:  \r\n",
      "Events:\r\n",
      "  Type    Reason            Age   From                  Message\r\n",
      "  ----    ------            ----  ----                  -------\r\n",
      "  Normal  SuccessfulCreate  34m   daemonset-controller  Created pod: blobfuse-flexvol-installer-f7jjz\r\n",
      "  Normal  SuccessfulCreate  34m   daemonset-controller  Created pod: blobfuse-flexvol-installer-nkcf9\r\n",
      "  Normal  SuccessfulCreate  34m   daemonset-controller  Created pod: blobfuse-flexvol-installer-fzjlm\r\n"
     ]
    }
   ],
   "source": [
    "!kubectl describe daemonset blobfuse-flexvol-installer --namespace=kube-system"
   ]
  },
  {
   "cell_type": "code",
   "execution_count": 91,
   "metadata": {},
   "outputs": [
    {
     "name": "stdout",
     "output_type": "stream",
     "text": [
      "NAME                                    READY   STATUS    RESTARTS   AGE     IP           NODE                       NOMINATED NODE\r\n",
      "blobfuse-flexvol-installer-f7jjz        1/1     Running   0          34m     10.244.0.9   aks-nodepool1-21996804-2   <none>\r\n",
      "blobfuse-flexvol-installer-fzjlm        1/1     Running   0          34m     10.244.1.3   aks-nodepool1-21996804-1   <none>\r\n",
      "blobfuse-flexvol-installer-nkcf9        1/1     Running   0          34m     10.244.2.4   aks-nodepool1-21996804-0   <none>\r\n",
      "coredns-66d44cdc7c-54wn5                1/1     Running   0          4h33m   10.244.0.2   aks-nodepool1-21996804-2   <none>\r\n",
      "coredns-66d44cdc7c-lh5xc                1/1     Running   0          4h29m   10.244.2.2   aks-nodepool1-21996804-0   <none>\r\n",
      "coredns-autoscaler-6fdbf9f665-5vkjl     1/1     Running   0          4h33m   10.244.0.7   aks-nodepool1-21996804-2   <none>\r\n",
      "heapster-5f4dfbc58d-zgh2q               2/2     Running   0          4h33m   10.244.0.4   aks-nodepool1-21996804-2   <none>\r\n",
      "kube-proxy-qffm4                        1/1     Running   0          36m     10.240.0.4   aks-nodepool1-21996804-2   <none>\r\n",
      "kube-proxy-sl46b                        1/1     Running   0          36m     10.240.0.6   aks-nodepool1-21996804-1   <none>\r\n",
      "kube-proxy-tzpmk                        1/1     Running   0          36m     10.240.0.5   aks-nodepool1-21996804-0   <none>\r\n",
      "kube-svc-redirect-995r8                 2/2     Running   0          36m     10.240.0.5   aks-nodepool1-21996804-0   <none>\r\n",
      "kube-svc-redirect-9pb4g                 2/2     Running   0          36m     10.240.0.6   aks-nodepool1-21996804-1   <none>\r\n",
      "kube-svc-redirect-zd2ps                 2/2     Running   0          36m     10.240.0.4   aks-nodepool1-21996804-2   <none>\r\n",
      "kubernetes-dashboard-649d8c8b84-lwsgd   1/1     Running   0          4h33m   10.244.0.6   aks-nodepool1-21996804-2   <none>\r\n",
      "metrics-server-6744474f58-swtwf         1/1     Running   0          4h33m   10.244.0.3   aks-nodepool1-21996804-2   <none>\r\n",
      "tunnelfront-79496584b8-tzr4h            1/1     Running   0          4h33m   10.244.0.5   aks-nodepool1-21996804-2   <none>\r\n"
     ]
    }
   ],
   "source": [
    "!kubectl get po --namespace=kube-system -o wide"
   ]
  },
  {
   "cell_type": "markdown",
   "metadata": {},
   "source": [
    "Set up credentials for blobfuse."
   ]
  },
  {
   "cell_type": "code",
   "execution_count": 92,
   "metadata": {},
   "outputs": [
    {
     "name": "stdout",
     "output_type": "stream",
     "text": [
      "secret/blobfusecreds created\r\n"
     ]
    }
   ],
   "source": [
    "!kubectl create secret generic blobfusecreds \\\n",
    "    --from-literal accountname={get_key(env_path, 'STORAGE_ACCOUNT_NAME')} \\\n",
    "    --from-literal accountkey={get_key(env_path, 'STORAGE_ACCOUNT_KEY')} \\\n",
    "    --type=\"azure/blobfuse\""
   ]
  },
  {
   "cell_type": "markdown",
   "metadata": {},
   "source": [
    "Set the mount directory on our AKS cluster as en dotenv variable."
   ]
  },
  {
   "cell_type": "code",
   "execution_count": 93,
   "metadata": {},
   "outputs": [
    {
     "data": {
      "text/plain": [
       "(True, 'MOUNT_DIR', '/data')"
      ]
     },
     "execution_count": 93,
     "metadata": {},
     "output_type": "execute_result"
    }
   ],
   "source": [
    "set_key(env_path, \"MOUNT_DIR\", \"/data\")"
   ]
  },
  {
   "cell_type": "markdown",
   "metadata": {},
   "source": [
    "Continue to the next [notebook](/notebooks/04_style_transfer_on_aks.ipynb)."
   ]
  }
 ],
 "metadata": {
  "kernelspec": {
   "display_name": "Python [conda env:bc_aks] *",
   "language": "python",
   "name": "conda-env-bc_aks-py"
  },
  "language_info": {
   "codemirror_mode": {
    "name": "ipython",
    "version": 3
   },
   "file_extension": ".py",
   "mimetype": "text/x-python",
   "name": "python",
   "nbconvert_exporter": "python",
   "pygments_lexer": "ipython3",
   "version": "3.6.8"
  }
 },
 "nbformat": 4,
 "nbformat_minor": 2
}
